{
 "cells": [
  {
   "cell_type": "markdown",
   "metadata": {},
   "source": [
    "# Dyad analysis of Carolyn's data"
   ]
  },
  {
   "cell_type": "code",
   "execution_count": 44,
   "metadata": {},
   "outputs": [],
   "source": [
    "library(tidyverse)\n",
    "library(stringr)\n",
    "library(robR)\n",
    "library(lme4)\n",
    "library(lmerTest)"
   ]
  },
  {
   "cell_type": "markdown",
   "metadata": {},
   "source": [
    "## Load data and merge data"
   ]
  },
  {
   "cell_type": "code",
   "execution_count": 45,
   "metadata": {},
   "outputs": [
    {
     "name": "stderr",
     "output_type": "stream",
     "text": [
      "Joining, by = \"anon_id\"\n",
      "Warning message:\n",
      "\"Column `anon_id` joining factor and character vector, coercing into character vector\""
     ]
    }
   ],
   "source": [
    "setwd(\"C:/Users/rober/Google Drive/MIND_2018\")\n",
    "\n",
    "# load brain data\n",
    "cp_brain<- read.csv(\"all_pairs_data_scaled_Study1_anonymized.csv\", stringsAsFactors = FALSE)\n",
    "\n",
    "# load personality data\n",
    "cp_anon_pers <- read.csv(\"anon_pers_data.csv\",stringsAsFactors = FALSE)\n",
    "\n",
    "\n",
    "items <- pers %>%  select(-Extraversion, -Agreeableness, -Conscientiousness, -Neuroticism, -Openness, -anon_id)  \n",
    "\n",
    "brain_ids <- unique(c(as.character(cp_brain$anon_subj1), as.character(cp_brain$anon_subj2)))\n",
    "\n",
    "\n",
    "brain_ids_df <- data.frame(anon_id = brain_ids)\n",
    "\n",
    "brain_pers <- inner_join(brain_ids_df, cp_anon_pers) %>% arrange(anon_id)\n",
    "\n",
    "brain_pers_items <- brain_pers %>% select(-Extraversion, -Agreeableness, -Conscientiousness, -Neuroticism, -Openness, -anon_id)\n"
   ]
  },
  {
   "cell_type": "markdown",
   "metadata": {},
   "source": [
    "## Define helper functions\n",
    "These functions help with plotting the off diagonal DSM."
   ]
  },
  {
   "cell_type": "code",
   "execution_count": 46,
   "metadata": {},
   "outputs": [],
   "source": [
    "# Mask DSM with NAs of the off-diagonal for gg-plotting ----------------------------\n",
    "dsm_mask <- function(dsm, lower=FALSE, melt=TRUE){\n",
    "  require(reshape2)\n",
    "  \n",
    "  # Don't melt output\n",
    "  if(melt==FALSE){\n",
    "    if(lower==FALSE){\n",
    "      mat <- as.matrix(dsm)\n",
    "      mat[lower.tri(mat,diag = TRUE)] <- NA\n",
    "      mat\n",
    "    }\n",
    "    else{\n",
    "        mat <- as.matrix(dsm)\n",
    "        mat[upper.tri(mat,diag = TRUE)] <- NA\n",
    "        mat\n",
    "      }\n",
    "  }\n",
    "  \n",
    "  # Melt output for plotting\n",
    "   else{\n",
    "      if(lower==FALSE){\n",
    "       mat <- as.matrix(dsm)\n",
    "       mat[lower.tri(mat,diag = TRUE)] <- NA\n",
    "       mat_m <- melt(mat)\n",
    "       mat_m$Var1 <- as.factor(mat_m$Var1)\n",
    "       mat_m$Var2 <- as.factor(mat_m$Var2)\n",
    "       mat_m$Var2 <- factor(mat_m$Var2, levels = rev(levels(mat_m$Var2)))\n",
    "       mat_m\n",
    "     }\n",
    "     else{\n",
    "       mat <- as.matrix(dsm)\n",
    "       mat[upper.tri(mat,diag = TRUE)] <- NA\n",
    "       mat_m <- melt(mat)\n",
    "       mat_m$Var1 <- as.factor(mat_m$Var1)\n",
    "       mat_m$Var2 <- as.factor(mat_m$Var2)\n",
    "       mat_m$Var2 <- factor(mat_m$Var2, levels = rev(levels(mat_m$Var2)))\n",
    "       mat_m\n",
    "     } \n",
    "   }\n",
    "}\n",
    "\n",
    "\n",
    "# Make DSM plot -------------------------------------------------------\n",
    "dsm_plot <- function(df,col_n=8, color_dir = 1, rev_fac=FALSE){\n",
    "  \n",
    "  require(ggplot2)\n",
    "  library(colorRamps)\n",
    "  library(viridis)\n",
    "  \n",
    "  if(rev_fac==FALSE){\n",
    "    df <- df[which(is.na(df[,3])==FALSE),]\n",
    "    df[,1] <- factor(df[,1])\n",
    "    df[,2] <- factor(df[,2])\n",
    "    df$Var1 <- df[,1]\n",
    "    df$Var2 <- df[,2]\n",
    "    df$value <- df[,3]\n",
    "    mytheme <- theme(panel.grid.minor=element_blank(), panel.grid.major=element_blank())\n",
    "    ggplot(df, aes(Var1,Var2,fill=value)) + geom_raster() + theme_minimal() + mytheme + \n",
    "      scale_fill_gradientn(colors = magma(col_n, direction = color_dir),name = \"Dissimilarity\") + xlab(\"\") + ylab(\"\")\n",
    "  }\n",
    "  \n",
    "  else{\n",
    "    df <- df[which(is.na(df[,3])==FALSE),]\n",
    "    df[,1] <- factor(df[,1])\n",
    "    df[,2] <- factor(df[,2])\n",
    "    df[,2] <- factor(df[,2],levels = rev(levels(df[,2])))\n",
    "    df$Var1 <- df[,1]\n",
    "    df$Var2 <- df[,2]\n",
    "    df$value <- df[,3]\n",
    "    mytheme <- theme(panel.grid.minor=element_blank(), panel.grid.major=element_blank(), axis.text.x = element_text(angle = 300, hjust = 0))\n",
    "    ggplot(df, aes(Var1,Var2,fill=value)) + geom_raster() + theme_minimal() + mytheme + \n",
    "      scale_fill_gradientn(colors = magma(col_n, direction = color_dir),name = \"Dissimilarity\") + xlab(\"\") + ylab(\"\")\n",
    "  }\n",
    "}\n",
    "\n",
    "\n",
    "\n",
    "\n"
   ]
  },
  {
   "cell_type": "markdown",
   "metadata": {},
   "source": [
    "## Calculate DSMs for traits"
   ]
  },
  {
   "cell_type": "code",
   "execution_count": 47,
   "metadata": {},
   "outputs": [
    {
     "data": {},
     "metadata": {},
     "output_type": "display_data"
    },
    {
     "data": {
      "image/png": "[encoded data removed]",
      "text/plain": [
       "plot without title"
      ]
     },
     "metadata": {},
     "output_type": "display_data"
    }
   ],
   "source": [
    "# Calculate dissimilarities\n",
    "d_items <- dist(brain_pers_items)\n",
    "d_extra <- dist(brain_pers$Extraversion)\n",
    "d_open <- dist(brain_pers$Openness)\n",
    "d_neurotic <- dist(brain_pers$Neuroticism)\n",
    "d_consci <- dist(brain_pers$Conscientiousness)\n",
    "d_agree <- dist(brain_pers$Agreeableness)\n",
    "\n",
    "\n",
    "# Plot full personality DSM\n",
    "dsm_mask(d_items) %>% dsm_plot(color_dir = -1)"
   ]
  },
  {
   "cell_type": "markdown",
   "metadata": {},
   "source": [
    "## Merge DSMs for traits with dyadic fMRI data"
   ]
  },
  {
   "cell_type": "code",
   "execution_count": 48,
   "metadata": {},
   "outputs": [
    {
     "name": "stderr",
     "output_type": "stream",
     "text": [
      "Joining, by = \"anon_dyad\"\n"
     ]
    }
   ],
   "source": [
    "# \n",
    "personality_dsm <- data.frame(all_trait_dist = as.numeric(as.matrix(d_items)))\n",
    "personality_dsm$open_dist <- as.numeric(as.matrix(dist(brain_pers$Openness)))\n",
    "personality_dsm$consci_dist <- as.numeric(as.matrix(dist(brain_pers$Conscientiousness)))\n",
    "personality_dsm$extra_dist <- as.numeric(as.matrix(dist(brain_pers$Extraversion)))\n",
    "personality_dsm$agree_dist <- as.numeric(as.matrix(dist(brain_pers$Agreeableness)))\n",
    "personality_dsm$neurotic_dist <- as.numeric(as.matrix(dist(brain_pers$Neuroticism)))\n",
    "\n",
    "personality_dsm$sub1 <- rep(brain_pers$anon_id, 42)\n",
    "\n",
    "sub2 <- vector()\n",
    "for(i in brain_pers$anon_id){\n",
    "  \n",
    "  r <- rep(i, 42)\n",
    "  sub2 <- c(sub2, r)\n",
    "  \n",
    "}\n",
    "\n",
    "\n",
    "personality_dsm$sub2 <- sub2\n",
    "\n",
    "personality_dsm$anon_dyad <- str_c(personality_dsm$sub1,personality_dsm$sub2, sep = '_')\n",
    "\n",
    "\n",
    "dyad_df <- inner_join(personality_dsm, cp_brain) \n",
    "dyad_df$soc_dist2 <- ifelse(dyad_df$soc_dist ==5, 4, dyad_df$soc_dist)\n",
    "dyad_df_cor <- dyad_df %>% select(-sub1, -sub2, -anon_subj1, -anon_subj2, -anon_dyad)  \n",
    "  \n",
    "corall <- cor(dyad_df_cor)"
   ]
  },
  {
   "cell_type": "markdown",
   "metadata": {},
   "source": [
    "## Plot the disimilarites per social distance\n",
    "These plots are just to get a sense of the data but shouldn't be interpreted due to the nested structure of the data. Prints plot for full raw peronality trait dissimilarity as well as the summaried dissimilarites for each of the Big 5 traits."
   ]
  },
  {
   "cell_type": "code",
   "execution_count": 49,
   "metadata": {},
   "outputs": [
    {
     "name": "stdout",
     "output_type": "stream",
     "text": [
      "[1] \"Using between-subject SEM error bars\"\n",
      "[1] \"Using between-subject SEM error bars\"\n",
      "[1] \"Using between-subject SEM error bars\"\n",
      "[1] \"Using between-subject SEM error bars\"\n",
      "[1] \"Using between-subject SEM error bars\"\n",
      "[1] \"Using between-subject SEM error bars\"\n"
     ]
    },
    {
     "data": {
      "image/png": "[encoded data removed]",
      "text/plain": [
       "plot without title"
      ]
     },
     "metadata": {},
     "output_type": "display_data"
    }
   ],
   "source": [
    "all <- ggbar.maker(dyad_df$all_trait_dist, dyad_df$soc_dist2, palette = 'Greens') + \n",
    "  coord_cartesian(ylim = c(0,7.5)) + \n",
    "  labs(title = \"All trait dissimilarity\", x = \"social distance\", y = \"dissimilarity\") +\n",
    "  theme_minimal() +\n",
    "  theme(legend.position = \"none\")\n",
    "\n",
    "extra <- ggbar.maker(dyad_df$extra_dist, dyad_df$soc_dist2, palette = 'Greens') + \n",
    "  coord_cartesian(ylim = c(0,2)) + \n",
    "  labs(title = \"Extraversion dissimilarity\", x = \"social distance\", y = \"dissimilarity\") +\n",
    "  theme_minimal() +\n",
    "  theme(legend.position = \"none\")\n",
    "\n",
    "open <- ggbar.maker(dyad_df$open_dist, dyad_df$soc_dist2, palette = 'Greens') + \n",
    "  coord_cartesian(ylim = c(0,2)) + \n",
    "  labs(title = \"Openness dissimilarity\", x = \"social distance\", y = \"dissimilarity\") +\n",
    "  theme_minimal() +\n",
    "  theme(legend.position = \"none\")\n",
    "\n",
    "consci <- ggbar.maker(dyad_df$consci_dist, dyad_df$soc_dist2, palette = 'Greens') + \n",
    "  coord_cartesian(ylim = c(0,2)) + \n",
    "  labs(title = \"Conscientiousness dissimilarity\", x = \"social distance\", y = \"dissimilarity\") +\n",
    "  theme_minimal() +\n",
    "  theme(legend.position = \"none\")\n",
    "\n",
    "neurotic <- ggbar.maker(dyad_df$neurotic_dist, dyad_df$soc_dist2, palette = 'Greens') + \n",
    "  coord_cartesian(ylim = c(0,2)) + \n",
    "  labs(title = \"Neuroticism dissimilarity\", x = \"social distance\", y = \"dissimilarity\") +\n",
    "  theme_minimal() +\n",
    "  theme(legend.position = \"none\")\n",
    "\n",
    "agree <- ggbar.maker(dyad_df$agree_dist, dyad_df$soc_dist2, palette = 'Greens') + \n",
    "  coord_cartesian(ylim = c(0,2)) + \n",
    "  labs(title = \"Agreeableness dissimilarity\", x = \"social distance\", y = \"dissimilarity\") +\n",
    "  theme_minimal() +\n",
    "  theme(legend.position = \"none\")\n",
    "\n",
    "multiplot(all, extra, open, consci, neurotic, agree, cols = 3)\n"
   ]
  },
  {
   "cell_type": "markdown",
   "metadata": {},
   "source": [
    "## Predicting personality dissimilarity from brain similarity per ROI"
   ]
  },
  {
   "cell_type": "code",
   "execution_count": 50,
   "metadata": {},
   "outputs": [
    {
     "name": "stdout",
     "output_type": "stream",
     "text": [
      "[1] \"0.189584429935518 ctx.lh.bankssts\"\n",
      "[1] \"0.638927221116257 ctx.lh.caudalanteriorcingulate\"\n",
      "[1] \"0.924814259598467 ctx.lh.caudalmiddlefrontal\"\n",
      "[1] \"0.10062141249025 ctx.lh.cuneus\"\n",
      "[1] \"0.0889092048004703 ctx.lh.entorhinal\"\n",
      "[1] \"0.483748948523223 ctx.lh.frontalpole\"\n",
      "[1] \"0.457813438599843 ctx.lh.fusiform\"\n",
      "[1] \"0.242865664110421 ctx.lh.inferiorparietal\"\n",
      "[1] \"0.832656087917236 ctx.lh.inferiortemporal\"\n",
      "[1] \"0.134416779126246 ctx.lh.insula\"\n",
      "[1] \"0.89944389007551 ctx.lh.isthmuscingulate\"\n",
      "[1] \"0.0359798821007935 ctx.lh.lateraloccipital\"\n",
      "[1] \"0.657479200438881 ctx.lh.lateralorbitofrontal\"\n",
      "[1] \"0.715024188848647 ctx.lh.lingual\"\n",
      "[1] \"0.379346276747831 ctx.lh.medialorbitofrontal\"\n",
      "[1] \"0.405442854745032 ctx.lh.middletemporal\"\n",
      "[1] \"0.930544407749016 ctx.lh.paracentral\"\n",
      "[1] \"0.761051374203199 ctx.lh.parahippocampal\"\n",
      "[1] \"0.502955238161481 ctx.lh.parsopercularis\"\n",
      "[1] \"0.596164965543441 ctx.lh.parsorbitalis\"\n",
      "[1] \"0.466161057573593 ctx.lh.parstriangularis\"\n",
      "[1] \"0.282862884506117 ctx.lh.pericalcarine\"\n",
      "[1] \"0.601753408988458 ctx.lh.postcentral\"\n",
      "[1] \"0.664375067144709 ctx.lh.posteriorcingulate\"\n",
      "[1] \"0.680501775625355 ctx.lh.precentral\"\n",
      "[1] \"0.172520451783888 ctx.lh.precuneus\"\n",
      "[1] \"0.840182580909722 ctx.lh.rostralanteriorcingulate\"\n",
      "[1] \"0.364696556716133 ctx.lh.rostralmiddlefrontal\"\n",
      "[1] \"0.435029597916718 ctx.lh.superiorfrontal\"\n",
      "[1] \"0.6949949571571 ctx.lh.superiorparietal\"\n",
      "[1] \"0.458290274260732 ctx.lh.superiortemporal\"\n",
      "[1] \"0.793218312946496 ctx.lh.supramarginal\"\n",
      "[1] \"0.107678633817386 ctx.lh.temporalpole\"\n",
      "[1] \"0.10055188778899 ctx.lh.transversetemporal\"\n",
      "[1] \"0.62384595722318 ctx.rh.bankssts\"\n",
      "[1] \"0.935028317026854 ctx.rh.caudalanteriorcingulate\"\n",
      "[1] \"0.938554719107308 ctx.rh.caudalmiddlefrontal\"\n",
      "[1] \"0.256914740405272 ctx.rh.cuneus\"\n",
      "[1] \"0.113130701144758 ctx.rh.entorhinal\"\n",
      "[1] \"0.800069253031752 ctx.rh.frontalpole\"\n",
      "[1] \"0.947137904765033 ctx.rh.fusiform\"\n",
      "[1] \"0.65647787239596 ctx.rh.inferiorparietal\"\n",
      "[1] \"0.614848215409459 ctx.rh.inferiortemporal\"\n",
      "[1] \"0.916882880105202 ctx.rh.insula\"\n",
      "[1] \"0.326149990965658 ctx.rh.isthmuscingulate\"\n",
      "[1] \"0.80178046961788 ctx.rh.lateraloccipital\"\n",
      "[1] \"0.721030915623701 ctx.rh.lateralorbitofrontal\"\n",
      "[1] \"0.63995626373264 ctx.rh.lingual\"\n",
      "[1] \"0.0834790292797247 ctx.rh.medialorbitofrontal\"\n",
      "[1] \"0.788316838377262 ctx.rh.middletemporal\"\n",
      "[1] \"0.11403604766558 ctx.rh.paracentral\"\n",
      "[1] \"0.844906931115325 ctx.rh.parahippocampal\"\n",
      "[1] \"0.423099764503757 ctx.rh.parsopercularis\"\n",
      "[1] \"0.202260060357917 ctx.rh.parsorbitalis\"\n",
      "[1] \"0.58796542157982 ctx.rh.parstriangularis\"\n",
      "[1] \"0.367128711260378 ctx.rh.pericalcarine\"\n",
      "[1] \"0.917113736590642 ctx.rh.postcentral\"\n",
      "[1] \"0.659074963979966 ctx.rh.posteriorcingulate\"\n",
      "[1] \"0.811249557032577 ctx.rh.precentral\"\n",
      "[1] \"0.10452620192015 ctx.rh.precuneus\"\n",
      "[1] \"0.712292166305211 ctx.rh.rostralanteriorcingulate\"\n",
      "[1] \"0.76421570672549 ctx.rh.rostralmiddlefrontal\"\n",
      "[1] \"0.642025498489713 ctx.rh.superiorfrontal\"\n",
      "[1] \"0.205583363118166 ctx.rh.superiorparietal\"\n",
      "[1] \"0.164621734763997 ctx.rh.superiortemporal\"\n",
      "[1] \"0.350833312310588 ctx.rh.supramarginal\"\n",
      "[1] \"0.0256446009910567 ctx.rh.temporalpole\"\n",
      "[1] \"0.232996905721405 ctx.rh.transversetemporal\"\n",
      "[1] \"0.469256664454579 Right.Accumbens.area\"\n",
      "[1] \"0.729303651821412 Right.Amygdala\"\n",
      "[1] \"0.451604523998343 Right.Caudate\"\n",
      "[1] \"0.891988309788953 Right.Hippocampus\"\n",
      "[1] \"0.65934755713194 Right.Pallidum\"\n",
      "[1] \"0.624070333634619 Right.Putamen\"\n",
      "[1] \"0.469256664454579 Right.Accumbens.area\"\n",
      "[1] \"0.729303651821412 Right.Amygdala\"\n",
      "[1] \"0.451604523998343 Right.Caudate\"\n",
      "[1] \"0.891988309788953 Right.Hippocampus\"\n",
      "[1] \"0.65934755713194 Right.Pallidum\"\n",
      "[1] \"0.624070333634619 Right.Putamen\"\n"
     ]
    }
   ],
   "source": [
    "# Function to run lmer on each ROI\n",
    "lmer_brain <- function(roi){\n",
    "  exp <- paste(\"fit <- lmer(all_trait_dist ~\", roi,\"  + (1 + \",roi, \"|sub1) +  (1 + \", roi,\"|sub2), REML = FALSE,   data = dyad_df)\")\n",
    "  eval(parse(text = exp))\n",
    "  pval <- summary(fit)[10][[1]][[10]]\n",
    "  p <- paste(pval, roi)\n",
    "\n",
    "print(p) \n",
    "}\n",
    "\n",
    "# Run mix model on all brain areas and print the results\n",
    "for(i in grep('ctx',ls(dyad_df_cor),value = TRUE)){\n",
    "  lmer_brain(i)}\n",
    "\n",
    "for(i in grep('Right',ls(dyad_df_cor),value = TRUE)){\n",
    "     lmer_brain(i)}\n",
    "\n",
    "for(i in grep('Right',ls(dyad_df_cor),value = TRUE)){\n",
    "     lmer_brain(i)}"
   ]
  },
  {
   "cell_type": "code",
   "execution_count": null,
   "metadata": {},
   "outputs": [],
   "source": []
  },
  {
   "cell_type": "code",
   "execution_count": null,
   "metadata": {},
   "outputs": [],
   "source": []
  }
 ],
 "metadata": {
  "kernelspec": {
   "display_name": "R 3.3",
   "language": "R",
   "name": "ir33"
  },
  "language_info": {
   "codemirror_mode": "r",
   "file_extension": ".r",
   "mimetype": "text/x-r-source",
   "name": "R",
   "pygments_lexer": "r",
   "version": "3.3.3"
  }
 },
 "nbformat": 4,
 "nbformat_minor": 2
}
